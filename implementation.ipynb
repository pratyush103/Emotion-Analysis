{
 "cells": [
  {
   "cell_type": "code",
   "execution_count": null,
   "metadata": {},
   "outputs": [],
   "source": [
    "# %%python -m venv .venv\n",
    "# %.venv\\Scripts\\activate\n",
    "\n",
    "\n",
    "\n"
   ]
  },
  {
   "cell_type": "code",
   "execution_count": null,
   "metadata": {},
   "outputs": [],
   "source": [
    "# %pyenv install 3.8.10\n",
    "# %pyenv global 3.8.10\n"
   ]
  },
  {
   "cell_type": "code",
   "execution_count": null,
   "metadata": {},
   "outputs": [],
   "source": [
    "# %pip install --upgrade pip\n"
   ]
  },
  {
   "cell_type": "code",
   "execution_count": null,
   "metadata": {},
   "outputs": [],
   "source": [
    "\n",
    "%pip install -r Code/requirement.txt"
   ]
  },
  {
   "cell_type": "code",
   "execution_count": null,
   "metadata": {},
   "outputs": [],
   "source": [
    "%pip install --upgrade pip"
   ]
  },
  {
   "cell_type": "code",
   "execution_count": null,
   "metadata": {},
   "outputs": [],
   "source": [
    "%%python Code/extract_feature.py --data_name CASIA --mean_signal_length 88000\n",
    "%%python Code/extract_feature.py --data_name EMODB --mean_signal_length 96000\n",
    "%%python Code/extract_feature.py --data_name EMOVO --mean_signal_length 96000\n",
    "%%python Code/extract_feature.py --data_name IEMOCAP --mean_signal_length 310000\n",
    "%%python Code/extract_feature.py --data_name RAVDE --mean_signal_length 110000\n",
    "%%python Code/extract_feature.py --data_name SAVEE --mean_signal_length 130000"
   ]
  },
  {
   "cell_type": "code",
   "execution_count": null,
   "metadata": {},
   "outputs": [],
   "source": [
    "import os\n",
    "os.environ['PROTOCOL_BUFFERS_PYTHON_IMPLEMENTATION'] = 'python'\n",
    "\n",
    "%run Code/main.py --mode train --data EMOVO --split_fold 10 --random_seed 46 --epoch 500 --gpu 0"
   ]
  },
  {
   "cell_type": "code",
   "execution_count": null,
   "metadata": {},
   "outputs": [],
   "source": []
  },
  {
   "cell_type": "code",
   "execution_count": null,
   "metadata": {},
   "outputs": [],
   "source": [
    "%run Code/main.py --mode train --data SAVEE --split_fold 10 --random_seed 46 --epoch 500 --gpu 0"
   ]
  },
  {
   "cell_type": "code",
   "execution_count": null,
   "metadata": {},
   "outputs": [],
   "source": [
    "%run Code/main.py --mode test --data EMODB  --test_path ./Test_Models/EMODB_46 --split_fold 10  --random_seed 46"
   ]
  },
  {
   "cell_type": "code",
   "execution_count": null,
   "metadata": {},
   "outputs": [],
   "source": [
    "%%python main.py --mode test --data CASIA  --test_path ./Test_Models/CASIA_32 --split_fold 10 --random_seed 32\n",
    "%%python main.py --mode test --data EMODB  --test_path ./Test_Models/EMODB_46 --split_fold 10 --random_seed 46\n",
    "%%python main.py --mode test --data EMOVO  --test_path ./Test_Models/EMOVO_1 --split_fold 10 --random_seed 1\n",
    "%%python main.py --mode test --data IEMOCAP  --test_path ./Test_Models/IEMOCAP_16 --split_fold 10 --random_seed 16\n",
    "%%python main.py --mode test --data RAVDE  --test_path ./Test_Models/RAVDE_46 --split_fold 10 --random_seed 46\n",
    "%%python main.py --mode test --data SAVEE  --test_path ./Test_Models/SAVEE_44 --split_fold 10 --random_seed 44"
   ]
  },
  {
   "cell_type": "code",
   "execution_count": null,
   "metadata": {},
   "outputs": [],
   "source": [
    "%run Code/main.py --mode predict --data EMOVO  --test_path ./Models/EMOVO_46_2024-03-22_14-39-44 --split_fold 10 --random_seed 1 --mean_signal_length "
   ]
  },
  {
   "cell_type": "code",
   "execution_count": null,
   "metadata": {},
   "outputs": [],
   "source": [
    "from tensorflow.keras.models import load_model\n",
    "import numpy as np\n",
    "import Code.extract_feature\n",
    "import Code.Model \n",
    "import Code.TIMNET\n",
    "\n",
    "# Load the model\n",
    "model = TIMNET_Model(args=args, input_shape=x_source.shape[1:], class_label=CLASS_LABELS)\n",
    "model.load_weights('Models/EMOVO_46_2024-03-22_14-39-44/10-fold_weights_best_1.hdf5')\n",
    "\n",
    "# Load and preprocess the audio file\n",
    "audio = extract_feature.extract('path/to/audio.wav')\n",
    "\n",
    "# Predict the emotion\n",
    "predictions = model.predict(np.array([audio]))\n",
    "predicted_emotion = CLASS_LABELS[np.argmax(predictions[0])]\n",
    "\n",
    "print(predicted_emotion)"
   ]
  },
  {
   "cell_type": "code",
   "execution_count": null,
   "metadata": {},
   "outputs": [],
   "source": [
    "%run Code/extract_feature.py --data_name Output --mean_signal_length 96000"
   ]
  },
  {
   "cell_type": "code",
   "execution_count": null,
   "metadata": {},
   "outputs": [],
   "source": [
    "%run Code/extract_feat_pred.py --data_dir C:/Users/DELL/OneDrive/Documents/TIM-Net_SER/Output/ --output_dir Code/MFCC/"
   ]
  }
 ],
 "metadata": {
  "kernelspec": {
   "display_name": "Python 3",
   "language": "python",
   "name": "python3"
  },
  "language_info": {
   "codemirror_mode": {
    "name": "ipython",
    "version": 3
   },
   "file_extension": ".py",
   "mimetype": "text/x-python",
   "name": "python",
   "nbconvert_exporter": "python",
   "pygments_lexer": "ipython3",
   "version": "3.8.10"
  }
 },
 "nbformat": 4,
 "nbformat_minor": 2
}
